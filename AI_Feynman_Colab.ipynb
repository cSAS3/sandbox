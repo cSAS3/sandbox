{
 "cells": [
  {
   "cell_type": "markdown",
   "metadata": {},
   "source": [
    "# AI Feynman 2.0 in Google Colab\n",
    "このノートブックでは AI Feynman を使ってアップロードしたデータから数式を自動発見します。\n",
    "パラメータ調整やデータの入出力を扱いやすくするため `ipywidgets` を利用した簡易GUIを用意しています。"
   ]
  },
  {
   "cell_type": "code",
   "execution_count": null,
   "metadata": {},
   "outputs": [],
   "source": [
    "# ライブラリのインストール (必要に応じて)\n",
    "!pip install feynman"
   ]
  },
  {
   "cell_type": "code",
   "execution_count": null,
   "metadata": {},
   "outputs": [],
   "source": [
    "import io\n",
    "import tempfile\n",
    "import pandas as pd\n",
    "import numpy as np\n",
    "import matplotlib.pyplot as plt\n",
    "from feynman import run_feynman\n",
    "import ipywidgets as widgets\n",
    "from IPython.display import display, clear_output, Latex"
   ]
  },
  {
   "cell_type": "code",
   "execution_count": null,
   "metadata": {},
   "outputs": [],
   "source": [
    "# アップロードとパラメータ入力用ウィジェット\n",
    "upload = widgets.FileUpload(accept='.csv', multiple=False)\n",
    "x_select = widgets.SelectMultiple(options=[], description='X columns')\n",
    "y_select = widgets.Dropdown(options=[], description='Y column')\n",
    "\n",
    "BF_try_time = widgets.IntText(value=30, description='BF_try_time')\n",
    "polyfit_deg = widgets.IntText(value=5, description='polyfit_deg')\n",
    "NN_epochs = widgets.IntText(value=1000, description='NN_epochs')\n",
    "N_SAMPLES = widgets.IntText(value=5000, description='N_SAMPLES')\n",
    "\n",
    "run_button = widgets.Button(description='実行')\n",
    "output = widgets.Output()\n",
    "\n",
    "def on_upload_change(change):\n",
    "    if upload.value:\n",
    "        uploaded = list(upload.value.values())[0]\n",
    "        df = pd.read_csv(io.BytesIO(uploaded['content']))\n",
    "        cols = df.columns.tolist()\n",
    "        x_select.options = cols\n",
    "        y_select.options = cols\n",
    "        if len(cols) > 1:\n",
    "            x_select.value = tuple(cols[:-1])\n",
    "            y_select.value = cols[-1]\n",
    "        else:\n",
    "            x_select.value = tuple()\n",
    "            y_select.value = cols[0]\n",
    "upload.observe(on_upload_change, names='value')\n",
    "\n",
    "display(widgets.VBox([\n",
    "    widgets.HTML('<b>CSV ファイルをアップロードしてください (最終列が Y として想定されます)</b>'),\n",
    "    upload,\n",
    "    x_select,\n",
    "    y_select,\n",
    "    BF_try_time,\n",
    "    polyfit_deg,\n",
    "    NN_epochs,\n",
    "    N_SAMPLES,\n",
    "    run_button,\n",
    "    output\n",
    "]))\n"
   ]
  },
  {
   "cell_type": "code",
   "execution_count": null,
   "metadata": {},
   "outputs": [],
   "source": [
    "def on_run_clicked(b):\n",
    "    with output:\n",
    "        clear_output()\n",
    "        if not upload.value:\n",
    "            print('CSV ファイルをアップロードしてください')\n",
    "            return\n",
    "        uploaded = list(upload.value.values())[0]\n",
    "        df = pd.read_csv(io.BytesIO(uploaded['content']))\n",
    "        x_cols = list(x_select.value)\n",
    "        y_col = y_select.value\n",
    "        X = df[x_cols].values\n",
    "        y = df[y_col].values\n",
    "        with tempfile.NamedTemporaryFile(mode='w+', suffix='.csv', delete=False) as tmp:\n",
    "            full_data = pd.concat([df[x_cols], df[[y_col]]], axis=1)\n",
    "            full_data.to_csv(tmp.name, index=False, header=False)\n",
    "            fname = tmp.name\n",
    "        varnames = x_cols + [y_col]\n",
    "        results = run_feynman(\n",
    "            fname,\n",
    "            varnames=varnames,\n",
    "            BF_try_time=BF_try_time.value,\n",
    "            polyfit_deg=polyfit_deg.value,\n",
    "            NN_epochs=NN_epochs.value,\n",
    "            N_SAMPLES=N_SAMPLES.value\n",
    "        )\n",
    "        print('AI Feynman による最良数式:')\n",
    "        display(Latex(results['best_eq']))\n",
    "        print('詳細結果:')\n",
    "        print(results)\n",
    "        y_pred = results['best_func'](X.T)\n",
    "        plt.figure()\n",
    "        plt.scatter(y, y_pred, alpha=0.5)\n",
    "        plt.xlabel('実測値')\n",
    "        plt.ylabel('予測値')\n",
    "        plt.title('実測値 vs 予測値 (AI Feynman)')\n",
    "        plt.show()\n",
    "\n",
    "run_button.on_click(on_run_clicked)\n"
   ]
  }
 ],
 "metadata": {
  "kernelspec": {
   "display_name": "Python 3",
   "language": "python",
   "name": "python3"
  },
  "language_info": {
   "name": "python",
   "version": "3.x"
  }
 },
 "nbformat": 4,
 "nbformat_minor": 5
}
